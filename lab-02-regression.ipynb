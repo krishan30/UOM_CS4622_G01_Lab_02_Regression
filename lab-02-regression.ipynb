{
 "metadata": {
  "kernelspec": {
   "language": "python",
   "display_name": "Python 3",
   "name": "python3"
  },
  "language_info": {
   "pygments_lexer": "ipython3",
   "nbconvert_exporter": "python",
   "version": "3.6.4",
   "file_extension": ".py",
   "codemirror_mode": {
    "name": "ipython",
    "version": 3
   },
   "name": "python",
   "mimetype": "text/x-python"
  }
 },
 "nbformat_minor": 4,
 "nbformat": 4,
 "cells": [
  {
   "cell_type": "markdown",
   "source": [
    "# Import the necessary Python libraries"
   ],
   "metadata": {}
  },
  {
   "cell_type": "code",
   "source": [
    "import numpy as np\n",
    "import pandas as pd\n",
    "import matplotlib.pyplot as plt\n",
    "import seaborn as sns\n",
    "import xgboost as xgb\n",
    "import lightgbm as lgbm\n",
    "import catboost as cb\n",
    "\n",
    "from sklearn.metrics import mean_squared_error as mse\n",
    "from sklearn.metrics import mean_squared_log_error as msle\n",
    "from sklearn.model_selection import KFold,cross_val_predict, cross_val_score\n",
    "from sklearn.ensemble import VotingRegressor, StackingRegressor\n",
    "from sklearn.pipeline import make_pipeline\n",
    "from skopt import BayesSearchCV\n",
    "from skopt.space import Real, Integer, Categorical\n",
    "from category_encoders import TargetEncoder\n",
    "from xgboost import XGBRegressor\n",
    "from lightgbm import LGBMRegressor\n",
    "from catboost import CatBoostRegressor\n",
    "\n",
    "sns.set_theme(style = 'white', palette = 'viridis')\n",
    "pal = sns.color_palette(\"tab10\")"
   ],
   "metadata": {
    "execution": {
     "iopub.status.busy": "2023-09-26T17:58:12.186882Z",
     "iopub.execute_input": "2023-09-26T17:58:12.187385Z",
     "iopub.status.idle": "2023-09-26T17:58:12.205596Z",
     "shell.execute_reply.started": "2023-09-26T17:58:12.187333Z",
     "shell.execute_reply": "2023-09-26T17:58:12.204247Z"
    },
    "trusted": true
   },
   "execution_count": null,
   "outputs": []
  },
  {
   "cell_type": "markdown",
   "source": [
    "# Loading Train and Test Datasets"
   ],
   "metadata": {}
  },
  {
   "cell_type": "code",
   "source": [
    "training_dataset = pd.read_csv(r'../input/playground-series-s3e11/train.csv')\n",
    "testing_dataset = pd.read_csv(r'../input/playground-series-s3e11/test.csv')\n",
    "\n",
    "training_dataset.drop('id', axis = 1, inplace = True)\n",
    "testing_ids=testing_dataset['id']\n",
    "testing_dataset.drop('id', axis = 1, inplace = True)"
   ],
   "metadata": {
    "execution": {
     "iopub.status.busy": "2023-09-26T17:58:15.822704Z",
     "iopub.execute_input": "2023-09-26T17:58:15.823095Z",
     "iopub.status.idle": "2023-09-26T17:58:16.819702Z",
     "shell.execute_reply.started": "2023-09-26T17:58:15.823061Z",
     "shell.execute_reply": "2023-09-26T17:58:16.818694Z"
    },
    "trusted": true
   },
   "execution_count": null,
   "outputs": []
  },
  {
   "cell_type": "markdown",
   "source": [
    "# Loading Original Training Dataset"
   ],
   "metadata": {}
  },
  {
   "cell_type": "code",
   "source": [
    "original_training_dataset = pd.read_csv(r'../input/media-campaign-cost-prediction/train_dataset.csv')"
   ],
   "metadata": {
    "execution": {
     "iopub.status.busy": "2023-09-26T17:58:31.440002Z",
     "iopub.execute_input": "2023-09-26T17:58:31.440396Z",
     "iopub.status.idle": "2023-09-26T17:58:31.534262Z",
     "shell.execute_reply.started": "2023-09-26T17:58:31.440353Z",
     "shell.execute_reply": "2023-09-26T17:58:31.533207Z"
    },
    "trusted": true
   },
   "execution_count": null,
   "outputs": []
  },
  {
   "cell_type": "markdown",
   "source": [
    "* Take a Quick Look at the Data Structure"
   ],
   "metadata": {}
  },
  {
   "cell_type": "code",
   "source": [
    "training_dataset.head()"
   ],
   "metadata": {
    "execution": {
     "iopub.status.busy": "2023-09-26T07:26:50.860891Z",
     "iopub.execute_input": "2023-09-26T07:26:50.861271Z",
     "iopub.status.idle": "2023-09-26T07:26:50.894316Z",
     "shell.execute_reply.started": "2023-09-26T07:26:50.861219Z",
     "shell.execute_reply": "2023-09-26T07:26:50.893307Z"
    },
    "trusted": true
   },
   "execution_count": null,
   "outputs": []
  },
  {
   "cell_type": "code",
   "source": [
    "testing_dataset.head()"
   ],
   "metadata": {
    "execution": {
     "iopub.status.busy": "2023-09-26T07:26:56.760526Z",
     "iopub.execute_input": "2023-09-26T07:26:56.760873Z",
     "iopub.status.idle": "2023-09-26T07:26:56.794014Z",
     "shell.execute_reply.started": "2023-09-26T07:26:56.760845Z",
     "shell.execute_reply": "2023-09-26T07:26:56.792907Z"
    },
    "trusted": true
   },
   "execution_count": null,
   "outputs": []
  },
  {
   "cell_type": "code",
   "source": [
    "original_training_dataset.head()"
   ],
   "metadata": {
    "execution": {
     "iopub.status.busy": "2023-09-26T07:27:00.647991Z",
     "iopub.execute_input": "2023-09-26T07:27:00.648368Z",
     "iopub.status.idle": "2023-09-26T07:27:00.677639Z",
     "shell.execute_reply.started": "2023-09-26T07:27:00.648332Z",
     "shell.execute_reply": "2023-09-26T07:27:00.676546Z"
    },
    "trusted": true
   },
   "execution_count": null,
   "outputs": []
  },
  {
   "cell_type": "code",
   "source": [
    "def rmsle_lgbm(y_pred, data):\n",
    "\n",
    "    y_true = np.array(data)\n",
    "    score = msle(y_true, y_pred, squared = False)\n",
    "\n",
    "    return 'rmsle', score, False"
   ],
   "metadata": {
    "execution": {
     "iopub.status.busy": "2023-09-26T17:58:44.412105Z",
     "iopub.execute_input": "2023-09-26T17:58:44.412829Z",
     "iopub.status.idle": "2023-09-26T17:58:44.418069Z",
     "shell.execute_reply.started": "2023-09-26T17:58:44.412793Z",
     "shell.execute_reply": "2023-09-26T17:58:44.417006Z"
    },
    "trusted": true
   },
   "execution_count": null,
   "outputs": []
  },
  {
   "cell_type": "markdown",
   "source": [
    "# Data Pre-processing"
   ],
   "metadata": {}
  },
  {
   "cell_type": "markdown",
   "source": [
    "## Check for Missing Values"
   ],
   "metadata": {}
  },
  {
   "cell_type": "code",
   "source": [
    "def count_missing_values(df :pd.DataFrame):\n",
    "    # Count missing values in each column\n",
    "    missing_values = df.isnull().sum()\n",
    "    \n",
    "    # Total missing values in the DataFrame\n",
    "    total_missing = missing_values.sum()\n",
    "    \n",
    "    return total_missing"
   ],
   "metadata": {
    "execution": {
     "iopub.status.busy": "2023-09-26T17:22:11.126850Z",
     "iopub.execute_input": "2023-09-26T17:22:11.127203Z",
     "iopub.status.idle": "2023-09-26T17:22:11.133045Z",
     "shell.execute_reply.started": "2023-09-26T17:22:11.127175Z",
     "shell.execute_reply": "2023-09-26T17:22:11.131794Z"
    },
    "trusted": true
   },
   "execution_count": null,
   "outputs": []
  },
  {
   "cell_type": "markdown",
   "source": [
    "1. Training Dataset"
   ],
   "metadata": {}
  },
  {
   "cell_type": "code",
   "source": [
    "print(\"\\nTotal missing values in the Training Dataset:\",count_missing_values(training_dataset))"
   ],
   "metadata": {
    "execution": {
     "iopub.status.busy": "2023-09-26T17:22:13.825753Z",
     "iopub.execute_input": "2023-09-26T17:22:13.826107Z",
     "iopub.status.idle": "2023-09-26T17:22:13.842258Z",
     "shell.execute_reply.started": "2023-09-26T17:22:13.826079Z",
     "shell.execute_reply": "2023-09-26T17:22:13.841271Z"
    },
    "trusted": true
   },
   "execution_count": null,
   "outputs": []
  },
  {
   "cell_type": "markdown",
   "source": [
    "2. Testing Dataset"
   ],
   "metadata": {}
  },
  {
   "cell_type": "code",
   "source": [
    "print(\"\\nTotal missing values in the Testing Dataset:\",count_missing_values(testing_dataset))"
   ],
   "metadata": {
    "execution": {
     "iopub.status.busy": "2023-09-26T17:22:16.853482Z",
     "iopub.execute_input": "2023-09-26T17:22:16.853849Z",
     "iopub.status.idle": "2023-09-26T17:22:16.866494Z",
     "shell.execute_reply.started": "2023-09-26T17:22:16.853819Z",
     "shell.execute_reply": "2023-09-26T17:22:16.865273Z"
    },
    "trusted": true
   },
   "execution_count": null,
   "outputs": []
  },
  {
   "cell_type": "markdown",
   "source": [
    "3. Original Training Dataset"
   ],
   "metadata": {}
  },
  {
   "cell_type": "code",
   "source": [
    "print(\"\\nTotal missing values in the original training dataset Dataset:\", count_missing_values(original_training_dataset))"
   ],
   "metadata": {
    "execution": {
     "iopub.status.busy": "2023-09-26T17:22:20.256589Z",
     "iopub.execute_input": "2023-09-26T17:22:20.256934Z",
     "iopub.status.idle": "2023-09-26T17:22:20.264519Z",
     "shell.execute_reply.started": "2023-09-26T17:22:20.256907Z",
     "shell.execute_reply": "2023-09-26T17:22:20.263440Z"
    },
    "trusted": true
   },
   "execution_count": null,
   "outputs": []
  },
  {
   "cell_type": "markdown",
   "source": [
    "## Check for Duplicates Values"
   ],
   "metadata": {}
  },
  {
   "cell_type": "code",
   "source": [
    "def count_duplicate_rows(df):\n",
    "    # Check for duplicate rows\n",
    "    duplicate_rows = df[df.duplicated()]\n",
    "    \n",
    "    # Count the number of duplicate rows\n",
    "    num_duplicate_rows = duplicate_rows.shape[0]\n",
    "    \n",
    "    return num_duplicate_rows"
   ],
   "metadata": {
    "execution": {
     "iopub.status.busy": "2023-09-26T17:22:22.645395Z",
     "iopub.execute_input": "2023-09-26T17:22:22.645756Z",
     "iopub.status.idle": "2023-09-26T17:22:22.651131Z",
     "shell.execute_reply.started": "2023-09-26T17:22:22.645727Z",
     "shell.execute_reply": "2023-09-26T17:22:22.649979Z"
    },
    "trusted": true
   },
   "execution_count": null,
   "outputs": []
  },
  {
   "cell_type": "markdown",
   "source": [
    "1. Training Dataset"
   ],
   "metadata": {}
  },
  {
   "cell_type": "code",
   "source": [
    "print(\"\\nNumber of duplicate rows:\", count_duplicate_rows(training_dataset))"
   ],
   "metadata": {
    "execution": {
     "iopub.status.busy": "2023-09-26T17:22:25.279125Z",
     "iopub.execute_input": "2023-09-26T17:22:25.279725Z",
     "iopub.status.idle": "2023-09-26T17:22:25.408792Z",
     "shell.execute_reply.started": "2023-09-26T17:22:25.279692Z",
     "shell.execute_reply": "2023-09-26T17:22:25.407453Z"
    },
    "trusted": true
   },
   "execution_count": null,
   "outputs": []
  },
  {
   "cell_type": "markdown",
   "source": [
    "2. Testing Dataset"
   ],
   "metadata": {}
  },
  {
   "cell_type": "code",
   "source": [
    "print(\"\\nNumber of duplicate rows:\", count_duplicate_rows(testing_dataset))"
   ],
   "metadata": {
    "execution": {
     "iopub.status.busy": "2023-09-26T17:22:28.370720Z",
     "iopub.execute_input": "2023-09-26T17:22:28.371909Z",
     "iopub.status.idle": "2023-09-26T17:22:28.477668Z",
     "shell.execute_reply.started": "2023-09-26T17:22:28.371868Z",
     "shell.execute_reply": "2023-09-26T17:22:28.476639Z"
    },
    "trusted": true
   },
   "execution_count": null,
   "outputs": []
  },
  {
   "cell_type": "markdown",
   "source": [
    "3. Original Training Dataset"
   ],
   "metadata": {}
  },
  {
   "cell_type": "code",
   "source": [
    "print(\"\\nNumber of duplicate rows:\", count_duplicate_rows(original_training_dataset))"
   ],
   "metadata": {
    "execution": {
     "iopub.status.busy": "2023-09-26T17:22:31.793866Z",
     "iopub.execute_input": "2023-09-26T17:22:31.794234Z",
     "iopub.status.idle": "2023-09-26T17:22:31.819215Z",
     "shell.execute_reply.started": "2023-09-26T17:22:31.794188Z",
     "shell.execute_reply": "2023-09-26T17:22:31.818199Z"
    },
    "trusted": true
   },
   "execution_count": null,
   "outputs": []
  },
  {
   "cell_type": "markdown",
   "source": [
    "## Remove Duplicates Values"
   ],
   "metadata": {}
  },
  {
   "cell_type": "code",
   "source": [
    "# Remove duplicate rows\n",
    "original_training_dataset = original_training_dataset.drop_duplicates()"
   ],
   "metadata": {
    "execution": {
     "iopub.status.busy": "2023-09-26T17:58:53.233605Z",
     "iopub.execute_input": "2023-09-26T17:58:53.233966Z",
     "iopub.status.idle": "2023-09-26T17:58:53.259317Z",
     "shell.execute_reply.started": "2023-09-26T17:58:53.233938Z",
     "shell.execute_reply": "2023-09-26T17:58:53.258385Z"
    },
    "trusted": true
   },
   "execution_count": null,
   "outputs": []
  },
  {
   "cell_type": "markdown",
   "source": [
    "# Exploratory Data Analysis"
   ],
   "metadata": {}
  },
  {
   "cell_type": "markdown",
   "source": [
    "## Visualize Feature Distribution"
   ],
   "metadata": {}
  },
  {
   "cell_type": "code",
   "source": [
    "def plot_feature_distributions(training_df, testing_df, original_training_df, palette):\n",
    "    fig, ax = plt.subplots(5, 3, figsize=(10, 13), dpi=300)\n",
    "    ax = ax.flatten()\n",
    "\n",
    "    for i, column in enumerate(testing_df.columns):\n",
    "        sns.kdeplot(training_df[column], ax=ax[i], color=palette[0])\n",
    "        sns.kdeplot(testing_df[column], ax=ax[i], color=palette[2])\n",
    "        sns.kdeplot(original_training_df[column], ax=ax[i], color=palette[1])\n",
    "\n",
    "        ax[i].set_title(f'{column} Distribution')\n",
    "        ax[i].set_xlabel(None)\n",
    "\n",
    "    fig.suptitle('Distribution of Feature\\nper Dataset\\n', fontsize=24, fontweight='bold')\n",
    "    fig.legend(['Train', 'Test', 'Original Train'])\n",
    "    plt.tight_layout()\n",
    "    plt.show()\n"
   ],
   "metadata": {
    "execution": {
     "iopub.status.busy": "2023-09-26T10:19:44.418822Z",
     "iopub.execute_input": "2023-09-26T10:19:44.419210Z",
     "iopub.status.idle": "2023-09-26T10:19:44.428518Z",
     "shell.execute_reply.started": "2023-09-26T10:19:44.419179Z",
     "shell.execute_reply": "2023-09-26T10:19:44.427344Z"
    },
    "trusted": true
   },
   "execution_count": null,
   "outputs": []
  },
  {
   "cell_type": "code",
   "source": [
    "plot_feature_distributions(training_dataset, testing_dataset, original_training_dataset, pal)"
   ],
   "metadata": {
    "execution": {
     "iopub.status.busy": "2023-09-26T08:34:20.139464Z",
     "iopub.execute_input": "2023-09-26T08:34:20.139809Z",
     "iopub.status.idle": "2023-09-26T08:35:07.502920Z",
     "shell.execute_reply.started": "2023-09-26T08:34:20.139781Z",
     "shell.execute_reply": "2023-09-26T08:35:07.502070Z"
    },
    "trusted": true
   },
   "execution_count": null,
   "outputs": []
  },
  {
   "cell_type": "markdown",
   "source": [
    "## Visualize Cost Distribution Per Train vs Original Train Datasets"
   ],
   "metadata": {}
  },
  {
   "cell_type": "code",
   "source": [
    "plt.figure(figsize = (10, 5), dpi = 300)\n",
    "\n",
    "sns.kdeplot(training_dataset['cost'], color = pal[0], fill = True)\n",
    "sns.kdeplot(original_training_dataset['cost'], color = pal[2], fill = True)\n",
    "\n",
    "plt.title('Distribution of Cost per Dataset\\n', weight = 'bold', fontsize = 25)\n",
    "plt.legend(['Train', 'Original Train'])\n",
    "plt.show()"
   ],
   "metadata": {
    "execution": {
     "iopub.status.busy": "2023-09-26T08:38:45.444693Z",
     "iopub.execute_input": "2023-09-26T08:38:45.445064Z",
     "iopub.status.idle": "2023-09-26T08:38:47.941332Z",
     "shell.execute_reply.started": "2023-09-26T08:38:45.445033Z",
     "shell.execute_reply": "2023-09-26T08:38:47.940426Z"
    },
    "trusted": true
   },
   "execution_count": null,
   "outputs": []
  },
  {
   "cell_type": "markdown",
   "source": [
    "* The distribution in both the original datasets and the competition datasets appears to be quite similar."
   ],
   "metadata": {}
  },
  {
   "cell_type": "markdown",
   "source": [
    "## Visualize Correlation Matrix"
   ],
   "metadata": {}
  },
  {
   "cell_type": "code",
   "source": [
    "def plot_correlation_heatmap(data, label=None):\n",
    "    correlation_matrix = data.corr()\n",
    "    plt.figure(figsize=(14, 10), dpi=300)\n",
    "    \n",
    "    # Create a mask to hide the upper triangle of the heatmap\n",
    "    mask = np.zeros_like(correlation_matrix)\n",
    "    mask[np.triu_indices_from(mask)] = True\n",
    "    \n",
    "    sns.heatmap(correlation_matrix, mask=mask, annot=True, annot_kws={'size': 7})\n",
    "    plt.yticks(fontsize=14)\n",
    "    plt.xticks(fontsize=14)\n",
    "    plt.title(f'Correlation Matrix for {label} Dataset\\n', fontsize=25, weight='bold')\n",
    "    plt.show()"
   ],
   "metadata": {
    "execution": {
     "iopub.status.busy": "2023-09-26T10:20:26.185147Z",
     "iopub.execute_input": "2023-09-26T10:20:26.185525Z",
     "iopub.status.idle": "2023-09-26T10:20:26.193615Z",
     "shell.execute_reply.started": "2023-09-26T10:20:26.185495Z",
     "shell.execute_reply": "2023-09-26T10:20:26.192292Z"
    },
    "trusted": true
   },
   "execution_count": null,
   "outputs": []
  },
  {
   "cell_type": "markdown",
   "source": [
    "1. Training Dataset"
   ],
   "metadata": {}
  },
  {
   "cell_type": "code",
   "source": [
    "plot_correlation_heatmap(training_dataset, 'Training')"
   ],
   "metadata": {
    "execution": {
     "iopub.status.busy": "2023-09-26T08:46:51.115880Z",
     "iopub.execute_input": "2023-09-26T08:46:51.116451Z",
     "iopub.status.idle": "2023-09-26T08:46:53.780852Z",
     "shell.execute_reply.started": "2023-09-26T08:46:51.116410Z",
     "shell.execute_reply": "2023-09-26T08:46:53.779642Z"
    },
    "trusted": true
   },
   "execution_count": null,
   "outputs": []
  },
  {
   "cell_type": "markdown",
   "source": [
    "2. Testing Dataset"
   ],
   "metadata": {}
  },
  {
   "cell_type": "code",
   "source": [
    "plot_correlation_heatmap(testing_dataset, 'Testing')"
   ],
   "metadata": {
    "execution": {
     "iopub.status.busy": "2023-09-26T10:20:32.127260Z",
     "iopub.execute_input": "2023-09-26T10:20:32.127623Z",
     "iopub.status.idle": "2023-09-26T10:20:34.289825Z",
     "shell.execute_reply.started": "2023-09-26T10:20:32.127591Z",
     "shell.execute_reply": "2023-09-26T10:20:34.288599Z"
    },
    "trusted": true
   },
   "execution_count": null,
   "outputs": []
  },
  {
   "cell_type": "markdown",
   "source": [
    "* Perfect correlation between '**salad_bar**' and '**prepared_food**' implies that all '**prepared_food**' items originate from the '**salad_bar**.' Removing one of these variables should improve our results."
   ],
   "metadata": {}
  },
  {
   "cell_type": "markdown",
   "source": [
    "# Feature Engineering"
   ],
   "metadata": {}
  },
  {
   "cell_type": "markdown",
   "source": [
    "## Separate Features and Target Labels from Datasets"
   ],
   "metadata": {}
  },
  {
   "cell_type": "code",
   "source": [
    "train_features = training_dataset.drop(columns='cost')\n",
    "train_target = training_dataset['cost']"
   ],
   "metadata": {
    "execution": {
     "iopub.status.busy": "2023-09-26T17:59:02.457945Z",
     "iopub.execute_input": "2023-09-26T17:59:02.458332Z",
     "iopub.status.idle": "2023-09-26T17:59:02.480469Z",
     "shell.execute_reply.started": "2023-09-26T17:59:02.458301Z",
     "shell.execute_reply": "2023-09-26T17:59:02.478827Z"
    },
    "trusted": true
   },
   "execution_count": null,
   "outputs": []
  },
  {
   "cell_type": "code",
   "source": [
    "test_features = testing_dataset.copy()"
   ],
   "metadata": {
    "execution": {
     "iopub.status.busy": "2023-09-26T17:59:04.998008Z",
     "iopub.execute_input": "2023-09-26T17:59:04.998393Z",
     "iopub.status.idle": "2023-09-26T17:59:05.008362Z",
     "shell.execute_reply.started": "2023-09-26T17:59:04.998363Z",
     "shell.execute_reply": "2023-09-26T17:59:05.007445Z"
    },
    "trusted": true
   },
   "execution_count": null,
   "outputs": []
  },
  {
   "cell_type": "code",
   "source": [
    "features.head()"
   ],
   "metadata": {
    "execution": {
     "iopub.status.busy": "2023-09-26T10:37:21.436894Z",
     "iopub.execute_input": "2023-09-26T10:37:21.437329Z",
     "iopub.status.idle": "2023-09-26T10:37:21.483347Z",
     "shell.execute_reply.started": "2023-09-26T10:37:21.437292Z",
     "shell.execute_reply": "2023-09-26T10:37:21.482252Z"
    },
    "trusted": true
   },
   "execution_count": null,
   "outputs": []
  },
  {
   "cell_type": "code",
   "source": [
    "target.head()"
   ],
   "metadata": {
    "execution": {
     "iopub.status.busy": "2023-09-26T10:37:40.729090Z",
     "iopub.execute_input": "2023-09-26T10:37:40.729624Z",
     "iopub.status.idle": "2023-09-26T10:37:40.741891Z",
     "shell.execute_reply.started": "2023-09-26T10:37:40.729585Z",
     "shell.execute_reply": "2023-09-26T10:37:40.740081Z"
    },
    "trusted": true
   },
   "execution_count": null,
   "outputs": []
  },
  {
   "cell_type": "code",
   "source": [
    "test_features.head()"
   ],
   "metadata": {
    "execution": {
     "iopub.status.busy": "2023-09-26T10:46:55.071749Z",
     "iopub.execute_input": "2023-09-26T10:46:55.072405Z",
     "iopub.status.idle": "2023-09-26T10:46:55.101693Z",
     "shell.execute_reply.started": "2023-09-26T10:46:55.072370Z",
     "shell.execute_reply": "2023-09-26T10:46:55.100777Z"
    },
    "trusted": true
   },
   "execution_count": null,
   "outputs": []
  },
  {
   "cell_type": "code",
   "source": [
    "seed = 42\n",
    "splits = 5\n",
    "\n",
    "np.random.seed(seed)\n",
    "\n",
    "cross_validator = KFold(n_splits=splits, random_state=seed, shuffle=True)"
   ],
   "metadata": {
    "execution": {
     "iopub.status.busy": "2023-09-26T17:59:16.883149Z",
     "iopub.execute_input": "2023-09-26T17:59:16.883560Z",
     "iopub.status.idle": "2023-09-26T17:59:16.888632Z",
     "shell.execute_reply.started": "2023-09-26T17:59:16.883523Z",
     "shell.execute_reply": "2023-09-26T17:59:16.887628Z"
    },
    "trusted": true
   },
   "execution_count": null,
   "outputs": []
  },
  {
   "cell_type": "markdown",
   "source": [
    "## Feature Generation"
   ],
   "metadata": {}
  },
  {
   "cell_type": "code",
   "source": [
    "# Calculate 'child_ratio' and handle infinity and NaN values\n",
    "train_features['child_ratio'] = train_features['total_children'] / train_features['num_children_at_home']\n",
    "train_features['child_ratio'].replace([np.inf, -np.inf], 10, inplace=True)\n",
    "train_features['child_ratio'].fillna(0, inplace=True)\n",
    "\n",
    "test_features['child_ratio'] = test_features['total_children'] / test_features['num_children_at_home']\n",
    "test_features['child_ratio'].replace([np.inf, -np.inf], 10, inplace=True)\n",
    "test_features['child_ratio'].fillna(0, inplace=True)\n",
    "\n",
    "# Calculate 'store_score'\n",
    "train_features['store_score'] = train_features['coffee_bar'] + train_features['video_store'] + train_features['salad_bar'] + train_features['florist']\n",
    "test_features['store_score'] = test_features['coffee_bar'] + test_features['video_store'] + test_features['salad_bar'] + test_features['florist']\n",
    "\n",
    "#Calculate 'store_score_ratio'\n",
    "train_features['store_score_ratio'] = train_features['store_sqft'] / train_features['store_score']\n",
    "test_features['store_score_ratio'] = test_features['store_sqft'] / test_features['store_score']\n",
    "# Calculate 'independent_child'\n",
    "train_features['independent_child'] = train_features['total_children'] - train_features['num_children_at_home']\n",
    "test_features['independent_child'] = test_features['total_children'] - test_features['num_children_at_home']\n"
   ],
   "metadata": {
    "execution": {
     "iopub.status.busy": "2023-09-26T17:59:20.365421Z",
     "iopub.execute_input": "2023-09-26T17:59:20.365768Z",
     "iopub.status.idle": "2023-09-26T17:59:20.401181Z",
     "shell.execute_reply.started": "2023-09-26T17:59:20.365739Z",
     "shell.execute_reply": "2023-09-26T17:59:20.400248Z"
    },
    "trusted": true
   },
   "execution_count": null,
   "outputs": []
  },
  {
   "cell_type": "code",
   "source": [
    "test_features.shape"
   ],
   "metadata": {
    "execution": {
     "iopub.status.busy": "2023-09-26T17:59:23.951788Z",
     "iopub.execute_input": "2023-09-26T17:59:23.952138Z",
     "iopub.status.idle": "2023-09-26T17:59:23.958174Z",
     "shell.execute_reply.started": "2023-09-26T17:59:23.952109Z",
     "shell.execute_reply": "2023-09-26T17:59:23.957182Z"
    },
    "trusted": true
   },
   "execution_count": null,
   "outputs": []
  },
  {
   "cell_type": "markdown",
   "source": [
    "## Check for Feature Importance"
   ],
   "metadata": {}
  },
  {
   "cell_type": "code",
   "source": [
    "xgb_params = {\n",
    "    'seed': seed,\n",
    "    'objective': 'reg:squaredlogerror',\n",
    "    'eval_metric': 'rmse',\n",
    "    'tree_method' : 'gpu_hist',\n",
    "    'n_jobs' : -1,\n",
    "    'importance_type' : 'total_gain',\n",
    "    'max_depth' : 12,\n",
    "    'n_estimators': 100\n",
    "}\n",
    "\n",
    "lgbm_params = {\n",
    "    'seed': seed,\n",
    "    'objective' : 'regression',\n",
    "    'metric' : 'custom',\n",
    "    'device' : 'gpu',\n",
    "    'n_jobs' : -1,\n",
    "    'importance_type' : 'gain',\n",
    "    'max_depth' : 12,\n",
    "    'n_estimators': 100\n",
    "}\n",
    "\n",
    "xgb_importance = np.zeros(len(list(train_features)))\n",
    "lgbm_importance = np.zeros(len(list(train_features)))\n",
    "\n",
    "for fold, (train_idx, val_idx) in enumerate(cross_validator.split(train_features)):\n",
    "    \n",
    "    xgb_model = XGBRegressor(\n",
    "        **xgb_params,\n",
    "        callbacks=[xgb.callback.EarlyStopping(rounds=10,\n",
    "                                              maximize=False,\n",
    "                                              save_best=True)]\n",
    "    )\n",
    "    \n",
    "    xgb_model.fit(\n",
    "        train_features.iloc[train_idx], \n",
    "        train_target.iloc[train_idx],\n",
    "        eval_set = [(train_features.iloc[val_idx], train_target.iloc[val_idx])],\n",
    "        verbose = False\n",
    "    )  \n",
    "    \n",
    "    lgbm_model = LGBMRegressor(\n",
    "        **lgbm_params\n",
    "    )\n",
    "    \n",
    "    lgbm_model.fit(\n",
    "        train_features.iloc[train_idx], \n",
    "        train_target.iloc[train_idx],\n",
    "        eval_set = [(train_features.iloc[val_idx], train_target.iloc[val_idx])],\n",
    "        eval_metric = rmsle_lgbm,\n",
    "        callbacks = [lgbm.log_evaluation(False),\n",
    "                     lgbm.early_stopping(stopping_rounds = 10, verbose = False)]\n",
    "    )\n",
    "    \n",
    "    xgb_importance += xgb_model.feature_importances_ / splits\n",
    "    lgbm_importance += lgbm_model.feature_importances_ / splits\n",
    "    \n",
    "xgb_info = pd.DataFrame(xgb_importance, index = list(train_features))\n",
    "lgbm_info = pd.DataFrame(lgbm_importance, index = list(train_features))"
   ],
   "metadata": {
    "execution": {
     "iopub.status.busy": "2023-09-26T17:40:54.174922Z",
     "iopub.execute_input": "2023-09-26T17:40:54.175346Z",
     "iopub.status.idle": "2023-09-26T17:41:15.209474Z",
     "shell.execute_reply.started": "2023-09-26T17:40:54.175311Z",
     "shell.execute_reply": "2023-09-26T17:41:15.208594Z"
    },
    "trusted": true
   },
   "execution_count": null,
   "outputs": []
  },
  {
   "cell_type": "code",
   "source": [
    "fig, ax = plt.subplots(1, 2, figsize = (10,4), dpi = 300)\n",
    "ax = ax.flatten()\n",
    "\n",
    "sns.barplot(xgb_info.sort_values(ascending = False, by = 0).T, orient = 'h', palette = 'viridis', ax = ax[0])\n",
    "ax[0].set_title('XGBoost')\n",
    "ax[0].tick_params(axis = 'both', which = 'major', labelsize = 7)\n",
    "\n",
    "sns.barplot(lgbm_info.sort_values(ascending = False, by = 0).T, orient = 'h', palette = 'viridis', ax = ax[1])\n",
    "ax[1].tick_params(axis = 'both', which = 'major', labelsize = 7)\n",
    "ax[1].set_title('LightGBM')\n",
    "\n",
    "fig.suptitle('Feature Importance', weight = 'bold')\n",
    "plt.tight_layout()"
   ],
   "metadata": {
    "execution": {
     "iopub.status.busy": "2023-09-26T11:33:35.598260Z",
     "iopub.execute_input": "2023-09-26T11:33:35.598638Z",
     "iopub.status.idle": "2023-09-26T11:33:37.071365Z",
     "shell.execute_reply.started": "2023-09-26T11:33:35.598600Z",
     "shell.execute_reply": "2023-09-26T11:33:37.070429Z"
    },
    "trusted": true
   },
   "execution_count": null,
   "outputs": []
  },
  {
   "cell_type": "markdown",
   "source": [
    "## Dropping Unimportant Features"
   ],
   "metadata": {}
  },
  {
   "cell_type": "code",
   "source": [
    "drop_features = ['low_fat', 'gross_weight', 'recyclable_package', 'store_sales(in millions)', 'units_per_case', 'unit_sales(in millions)','prepared_food']\n",
    "\n",
    "train_features.drop(drop_features, axis = 1, inplace = True)\n",
    "test_features.drop(drop_features, axis = 1, inplace = True)"
   ],
   "metadata": {
    "execution": {
     "iopub.status.busy": "2023-09-26T17:59:30.134453Z",
     "iopub.execute_input": "2023-09-26T17:59:30.134815Z",
     "iopub.status.idle": "2023-09-26T17:59:30.159718Z",
     "shell.execute_reply.started": "2023-09-26T17:59:30.134786Z",
     "shell.execute_reply": "2023-09-26T17:59:30.158590Z"
    },
    "trusted": true
   },
   "execution_count": null,
   "outputs": []
  },
  {
   "cell_type": "code",
   "source": [
    "test_features.shape"
   ],
   "metadata": {
    "execution": {
     "iopub.status.busy": "2023-09-26T17:59:48.740307Z",
     "iopub.execute_input": "2023-09-26T17:59:48.740691Z",
     "iopub.status.idle": "2023-09-26T17:59:48.747484Z",
     "shell.execute_reply.started": "2023-09-26T17:59:48.740662Z",
     "shell.execute_reply": "2023-09-26T17:59:48.746385Z"
    },
    "trusted": true
   },
   "execution_count": null,
   "outputs": []
  },
  {
   "cell_type": "markdown",
   "source": [
    "## KFold Cross Validation with XGBoost"
   ],
   "metadata": {}
  },
  {
   "cell_type": "code",
   "source": [
    "def rmsle(y_target,y_pred):\n",
    "\n",
    "    y_target = np.array(y_target)\n",
    "    score = msle(y_target, y_pred, squared = False)\n",
    "\n",
    "    return score"
   ],
   "metadata": {
    "execution": {
     "iopub.status.busy": "2023-09-26T13:06:54.688544Z",
     "iopub.execute_input": "2023-09-26T13:06:54.689617Z",
     "iopub.status.idle": "2023-09-26T13:06:54.695607Z",
     "shell.execute_reply.started": "2023-09-26T13:06:54.689582Z",
     "shell.execute_reply": "2023-09-26T13:06:54.694176Z"
    },
    "trusted": true
   },
   "execution_count": null,
   "outputs": []
  },
  {
   "cell_type": "code",
   "source": [
    "train_target = np.log1p(train_target)\n",
    "\n",
    "xgb_params = {\n",
    "    'seed': seed,\n",
    "    'objective': 'reg:squarederror',\n",
    "    'eval_metric': 'rmse',\n",
    "    'tree_method' : 'gpu_hist',\n",
    "    'n_jobs' : -1,\n",
    "    'importance_type' : 'total_gain',\n",
    "    'grow_policy' : 'lossguide',\n",
    "    \n",
    "    'max_depth' : 20,\n",
    "    'n_estimators' : 1000,\n",
    "    'alpha' : 1,\n",
    "    'lambda' : 0,\n",
    "    'eta' : .0561418286569673\n",
    "}"
   ],
   "metadata": {
    "execution": {
     "iopub.status.busy": "2023-09-26T17:42:08.101888Z",
     "iopub.execute_input": "2023-09-26T17:42:08.102295Z",
     "iopub.status.idle": "2023-09-26T17:42:08.109124Z",
     "shell.execute_reply.started": "2023-09-26T17:42:08.102263Z",
     "shell.execute_reply": "2023-09-26T17:42:08.108162Z"
    },
    "trusted": true
   },
   "execution_count": null,
   "outputs": []
  },
  {
   "cell_type": "code",
   "source": [
    "train_scores_rmse, val_scores_rmse = [], []\n",
    "train_scores_mse, val_scores_mse = [], []\n",
    "for fold, (train_idx, val_idx) in enumerate(cross_validator.split(train_features, train_target)):\n",
    "    \n",
    "    xgb_model = XGBRegressor(**xgb_params)\n",
    "    \n",
    "    xgb_model.fit(\n",
    "        train_features.iloc[train_idx], \n",
    "        train_target.iloc[train_idx]\n",
    "    )\n",
    "    \n",
    "    train_preds = xgb_model.predict(train_features.iloc[train_idx])\n",
    "    val_preds = xgb_model.predict(train_features.iloc[val_idx])\n",
    "    \n",
    "    train_score_rmsle = rmsle(train_target.iloc[train_idx], train_preds)\n",
    "    val_score_rmsle = rmsle(train_target.iloc[val_idx], val_preds)\n",
    "    \n",
    "    train_score_mse = mse(target.iloc[train_idx], train_preds, squared = False)\n",
    "    val_score_mse = mse(target.iloc[val_idx], val_preds, squared = False)\n",
    "    \n",
    "    train_scores_rmse.append(train_score)\n",
    "    val_scores_rmse.append(val_score)\n",
    "    \n",
    "    train_scores_mse.append(train_score_mse)\n",
    "    val_scores_mse.append(val_score_mse)\n",
    "\n",
    "    print(f'Fold {fold}: val RMSLE = {val_score_rmsle:.5f} | train RMSLE = {train_score_rmsle:.5f}')\n",
    "    print(f'Fold {fold}: val MSE = {val_score_mse:.5f} | train MSE = {train_score_mse:.5f}')\n",
    "    print()\n",
    "\n",
    "print(f'Average val RMSLE = {np.mean(val_scores):.5f} | train RMSLE = {np.mean(train_scores):.5f}')\n",
    "print(f'Average val MSE = {np.mean(val_scores_mse):.5f} | train MSE = {np.mean(train_scores_mse):.5f}')"
   ],
   "metadata": {
    "execution": {
     "iopub.status.busy": "2023-09-26T13:32:39.356058Z",
     "iopub.execute_input": "2023-09-26T13:32:39.356461Z",
     "iopub.status.idle": "2023-09-26T13:34:42.455784Z",
     "shell.execute_reply.started": "2023-09-26T13:32:39.356431Z",
     "shell.execute_reply": "2023-09-26T13:34:42.454737Z"
    },
    "trusted": true
   },
   "execution_count": null,
   "outputs": []
  },
  {
   "cell_type": "markdown",
   "source": [
    "## KFold Cross Validation with CatBoost"
   ],
   "metadata": {}
  },
  {
   "cell_type": "code",
   "source": [
    "cb_params = {\n",
    "    'random_seed': seed,\n",
    "    'loss_function' : 'RMSE',\n",
    "    'eval_metric' : 'RMSE',\n",
    "    'task_type' : 'GPU',\n",
    "    'bootstrap_type' : 'Bernoulli',\n",
    "    'verbose' : False,\n",
    "    \n",
    "    'n_estimators' : 1000, \n",
    "    'max_depth' : 11,\n",
    "    'learning_rate' : .09373739891212098,\n",
    "    'min_data_in_leaf' : 1,\n",
    "    'reg_lambda' : 10,\n",
    "    'subsample' : 1\n",
    "}"
   ],
   "metadata": {
    "execution": {
     "iopub.status.busy": "2023-09-26T17:42:15.494021Z",
     "iopub.execute_input": "2023-09-26T17:42:15.494429Z",
     "iopub.status.idle": "2023-09-26T17:42:15.500614Z",
     "shell.execute_reply.started": "2023-09-26T17:42:15.494378Z",
     "shell.execute_reply": "2023-09-26T17:42:15.499502Z"
    },
    "trusted": true
   },
   "execution_count": null,
   "outputs": []
  },
  {
   "cell_type": "code",
   "source": [
    "train_scores_rmse, val_scores_rmse = [], []\n",
    "train_scores_mse, val_scores_mse = [], []\n",
    "\n",
    "for fold, (train_idx, val_idx) in enumerate(cross_validator.split(train_features, train_target)):\n",
    "\n",
    "    cb_model = CatBoostRegressor(**cb_params)\n",
    "    \n",
    "    cb_model.fit(train_features.iloc[train_idx], train_target.iloc[train_idx])\n",
    "    \n",
    "    train_preds = cb_model.predict(train_features.iloc[train_idx])\n",
    "    val_preds = cb_model.predict(train_features.iloc[val_idx])\n",
    "    \n",
    "    train_score_rmsle = rmsle(target.iloc[train_idx], train_preds)\n",
    "    val_score_rmsle = rmsle(target.iloc[val_idx], val_preds)\n",
    "    \n",
    "    train_score_mse = mse(target.iloc[train_idx], train_preds, squared = False)\n",
    "    val_score_mse = mse(target.iloc[val_idx], val_preds, squared = False)\n",
    "    \n",
    "    train_scores_rmse.append(train_score)\n",
    "    val_scores_rmse.append(val_score)\n",
    "    \n",
    "    train_scores_mse.append(train_score_mse)\n",
    "    val_scores_mse.append(val_score_mse)\n",
    "    \n",
    "\n",
    "    print(f'Fold {fold}: val RMSLE = {val_score_rmsle:.5f} | train RMSLE = {train_score_rmsle:.5f}')\n",
    "    print(f'Fold {fold}: val MSE = {val_score_mse:.5f} | train MSE = {train_score_mse:.5f}')\n",
    "    print()\n",
    "\n",
    "print(f'Average val RMSLE = {np.mean(val_scores):.5f} | train RMSLE = {np.mean(train_scores):.5f}')\n",
    "print(f'Average val MSE = {np.mean(val_scores_mse):.5f} | train MSE = {np.mean(train_scores_mse):.5f}')"
   ],
   "metadata": {
    "execution": {
     "iopub.status.busy": "2023-09-26T13:35:44.401832Z",
     "iopub.execute_input": "2023-09-26T13:35:44.402213Z",
     "iopub.status.idle": "2023-09-26T13:45:05.023790Z",
     "shell.execute_reply.started": "2023-09-26T13:35:44.402184Z",
     "shell.execute_reply": "2023-09-26T13:45:05.021691Z"
    },
    "trusted": true
   },
   "execution_count": null,
   "outputs": []
  },
  {
   "cell_type": "markdown",
   "source": [
    "## KFold Cross Validation with Stacking Approch with XGBoost & CatBoost"
   ],
   "metadata": {}
  },
  {
   "cell_type": "code",
   "source": [
    "train_scores_rmse, val_scores_rmse = [], []\n",
    "train_scores_mse, val_scores_mse = [], []\n",
    "\n",
    "for fold, (train_idx, val_idx) in enumerate(cross_validator.split(train_features, train_target)):\n",
    "    \n",
    "    stack =StackingRegressor([('xgb', XGBRegressor(**xgb_params)),('cb', CatBoostRegressor(**cb_params))])\n",
    "    \n",
    "    stack.fit(train_features.iloc[train_idx], train_target.iloc[train_idx])\n",
    "    \n",
    "    train_preds = stack.predict(train_features.iloc[train_idx])\n",
    "    val_preds = stack.predict(train_features.iloc[val_idx])\n",
    "    \n",
    "    train_score_rmsle = rmsle(train_target.iloc[train_idx], train_preds)\n",
    "    val_score_rmsle = rmsle(train_target.iloc[val_idx], val_preds)\n",
    "    \n",
    "    train_score_mse = mse(train_target.iloc[train_idx], train_preds, squared = False)\n",
    "    val_score_mse = mse(train_target.iloc[val_idx], val_preds, squared = False)\n",
    "    \n",
    "    train_scores_rmse.append(train_score)\n",
    "    val_scores_rmse.append(val_score)\n",
    "    \n",
    "    train_scores_mse.append(train_score_mse)\n",
    "    val_scores_mse.append(val_score_mse)\n",
    "    \n",
    "\n",
    "    print(f'Fold {fold}: val RMSLE = {val_score_rmsle:.5f} | train RMSLE = {train_score_rmsle:.5f}')\n",
    "    print(f'Fold {fold}: val MSE = {val_score_mse:.5f} | train MSE = {train_score_mse:.5f}')\n",
    "    print()\n",
    "\n",
    "print(f'Average val RMSLE = {np.mean(val_scores):.5f} | train RMSLE = {np.mean(train_scores):.5f}')\n",
    "print(f'Average val MSE = {np.mean(val_scores_mse):.5f} | train MSE = {np.mean(train_scores_mse):.5f}')"
   ],
   "metadata": {
    "execution": {
     "iopub.status.busy": "2023-09-26T13:47:23.055429Z",
     "iopub.execute_input": "2023-09-26T13:47:23.055838Z",
     "iopub.status.idle": "2023-09-26T14:50:20.944550Z",
     "shell.execute_reply.started": "2023-09-26T13:47:23.055805Z",
     "shell.execute_reply": "2023-09-26T14:50:20.940716Z"
    },
    "trusted": true
   },
   "execution_count": null,
   "outputs": []
  },
  {
   "cell_type": "markdown",
   "source": [
    "## KFold Cross Validation with Voting Approch with XGBoost & CatBoost"
   ],
   "metadata": {}
  },
  {
   "cell_type": "code",
   "source": [
    "train_scores_rmse, val_scores_rmse = [], []\n",
    "train_scores_mse, val_scores_mse = [], []\n",
    "\n",
    "for fold, (train_idx, val_idx) in enumerate(cross_validator.split(train_features, train_target)):\n",
    "    \n",
    "    vote = make_pipeline(\n",
    "        VotingRegressor([('xgb', XGBRegressor(**xgb_params)),('cb', CatBoostRegressor(**cb_params))])\n",
    "    )\n",
    "    \n",
    "    vote.fit(train_features.iloc[train_idx], train_target.iloc[train_idx])\n",
    "    \n",
    "    train_preds = vote.predict(train_features.iloc[train_idx])\n",
    "    val_preds = vote.predict(train_features.iloc[val_idx])\n",
    "    \n",
    "    train_score_rmsle = rmsle(train_target.iloc[train_idx], train_preds)\n",
    "    val_score_rmsle = rmsle(trian_target.iloc[val_idx], val_preds)\n",
    "    \n",
    "    train_score_mse = mse(train_target.iloc[train_idx], train_preds, squared = False)\n",
    "    val_score_mse = mse(train_target.iloc[val_idx], val_preds, squared = False)\n",
    "    \n",
    "    train_scores_rmse.append(train_score)\n",
    "    val_scores_rmse.append(val_score)\n",
    "    \n",
    "    train_scores_mse.append(train_score_mse)\n",
    "    val_scores_mse.append(val_score_mse)\n",
    "    \n",
    "\n",
    "    print(f'Fold {fold}: val RMSLE = {val_score_rmsle:.5f} | train RMSLE = {train_score_rmsle:.5f}')\n",
    "    print(f'Fold {fold}: val MSE = {val_score_mse:.5f} | train MSE = {train_score_mse:.5f}')\n",
    "    print()\n",
    "\n",
    "print(f'Average val RMSLE = {np.mean(val_scores):.5f} | train RMSLE = {np.mean(train_scores):.5f}')\n",
    "print(f'Average val MSE = {np.mean(val_scores_mse):.5f} | train MSE = {np.mean(train_scores_mse):.5f}')"
   ],
   "metadata": {
    "execution": {
     "iopub.status.busy": "2023-09-26T15:31:39.012692Z",
     "iopub.execute_input": "2023-09-26T15:31:39.013422Z",
     "iopub.status.idle": "2023-09-26T15:43:01.525131Z",
     "shell.execute_reply.started": "2023-09-26T15:31:39.013389Z",
     "shell.execute_reply": "2023-09-26T15:43:01.524092Z"
    },
    "trusted": true
   },
   "execution_count": null,
   "outputs": []
  },
  {
   "cell_type": "markdown",
   "source": [
    "# Final Model"
   ],
   "metadata": {}
  },
  {
   "cell_type": "markdown",
   "source": [
    "## Combine Original & Training Datasets"
   ],
   "metadata": {}
  },
  {
   "cell_type": "code",
   "source": [
    "combined_training_dataset = pd.concat([training_dataset, original_training_dataset])\n",
    "combined_training_dataset.drop_duplicates(subset = list(training_dataset)[0:-1], inplace = True)\n",
    "\n",
    "combined_features = combined_training_dataset.iloc[:, :-1]\n",
    "combined_features = combined_features.drop(drop_features, axis = 1)\n",
    "combined_target = combined_training_dataset['cost']\n",
    "combined_target = np.log1p(combined_target)\n"
   ],
   "metadata": {
    "execution": {
     "iopub.status.busy": "2023-09-26T18:04:08.107091Z",
     "iopub.execute_input": "2023-09-26T18:04:08.108177Z",
     "iopub.status.idle": "2023-09-26T18:04:08.286642Z",
     "shell.execute_reply.started": "2023-09-26T18:04:08.108143Z",
     "shell.execute_reply": "2023-09-26T18:04:08.285636Z"
    },
    "trusted": true
   },
   "execution_count": null,
   "outputs": []
  },
  {
   "cell_type": "code",
   "source": [
    "combined_features.head()"
   ],
   "metadata": {
    "execution": {
     "iopub.status.busy": "2023-09-26T18:04:11.364869Z",
     "iopub.execute_input": "2023-09-26T18:04:11.365274Z",
     "iopub.status.idle": "2023-09-26T18:04:11.386596Z",
     "shell.execute_reply.started": "2023-09-26T18:04:11.365217Z",
     "shell.execute_reply": "2023-09-26T18:04:11.385287Z"
    },
    "trusted": true
   },
   "execution_count": null,
   "outputs": []
  },
  {
   "cell_type": "markdown",
   "source": [
    "## Feature Engineering for Combined Datasets"
   ],
   "metadata": {}
  },
  {
   "cell_type": "code",
   "source": [
    "# Calculate 'child_ratio' and handle infinity and NaN values\n",
    "combined_features['child_ratio'] = combined_features['total_children'] / combined_features['num_children_at_home']\n",
    "combined_features['child_ratio'].replace([np.inf, -np.inf], 10, inplace=True)\n",
    "combined_features['child_ratio'].fillna(0, inplace=True)\n",
    "\n",
    "# Calculate 'store_score'\n",
    "combined_features['store_score'] = combined_features['coffee_bar'] + combined_features['video_store'] + combined_features['salad_bar'] + combined_features['florist']\n",
    "\n",
    "#Calculate 'store_score_ratio'\n",
    "combined_features['store_score_ratio'] = combined_features['store_sqft'] / combined_features['store_score']\n",
    "\n",
    "# Calculate 'independent_child'\n",
    "combined_features['independent_child'] = combined_features['total_children'] - combined_features['num_children_at_home']\n"
   ],
   "metadata": {
    "execution": {
     "iopub.status.busy": "2023-09-26T18:04:19.361553Z",
     "iopub.execute_input": "2023-09-26T18:04:19.361923Z",
     "iopub.status.idle": "2023-09-26T18:04:19.385928Z",
     "shell.execute_reply.started": "2023-09-26T18:04:19.361893Z",
     "shell.execute_reply": "2023-09-26T18:04:19.384434Z"
    },
    "trusted": true
   },
   "execution_count": null,
   "outputs": []
  },
  {
   "cell_type": "markdown",
   "source": [
    "## Stacking Approch with XGBoost & CatBoost"
   ],
   "metadata": {}
  },
  {
   "cell_type": "code",
   "source": [
    "stack = StackingRegressor([('xgb', XGBRegressor(**xgb_params)),('cb', CatBoostRegressor(**cb_params))])\n",
    "stack.fit(combined_features, combined_target)"
   ],
   "metadata": {
    "execution": {
     "iopub.status.busy": "2023-09-26T18:04:36.090040Z",
     "iopub.execute_input": "2023-09-26T18:04:36.090406Z",
     "iopub.status.idle": "2023-09-26T18:17:35.178546Z",
     "shell.execute_reply.started": "2023-09-26T18:04:36.090376Z",
     "shell.execute_reply": "2023-09-26T18:17:35.177238Z"
    },
    "trusted": true
   },
   "execution_count": null,
   "outputs": []
  },
  {
   "cell_type": "markdown",
   "source": [
    "## Saving the Model"
   ],
   "metadata": {}
  },
  {
   "cell_type": "code",
   "source": [
    "import joblib\n",
    "joblib.dump(stack, 'final_model.joblib')"
   ],
   "metadata": {
    "execution": {
     "iopub.status.busy": "2023-09-26T18:17:42.358728Z",
     "iopub.execute_input": "2023-09-26T18:17:42.359091Z",
     "iopub.status.idle": "2023-09-26T18:17:42.512013Z",
     "shell.execute_reply.started": "2023-09-26T18:17:42.359060Z",
     "shell.execute_reply": "2023-09-26T18:17:42.510847Z"
    },
    "trusted": true
   },
   "execution_count": null,
   "outputs": []
  },
  {
   "cell_type": "markdown",
   "source": [
    "## Getting Results"
   ],
   "metadata": {}
  },
  {
   "cell_type": "code",
   "source": [
    "stack_preds = pd.DataFrame({'cost': stack.predict(test_features)})\n",
    "result = pd.concat([testing_ids, stack_preds], axis=1)"
   ],
   "metadata": {
    "execution": {
     "iopub.status.busy": "2023-09-26T18:23:25.369817Z",
     "iopub.execute_input": "2023-09-26T18:23:25.370163Z",
     "iopub.status.idle": "2023-09-26T18:23:32.546107Z",
     "shell.execute_reply.started": "2023-09-26T18:23:25.370133Z",
     "shell.execute_reply": "2023-09-26T18:23:32.544600Z"
    },
    "trusted": true
   },
   "execution_count": null,
   "outputs": []
  },
  {
   "cell_type": "markdown",
   "source": [
    "## Saving the CSV File"
   ],
   "metadata": {}
  },
  {
   "cell_type": "code",
   "source": [
    "result['cost'] = np.expm1(result['cost'])\n",
    "result.to_csv('submision.csv', index = False)"
   ],
   "metadata": {
    "execution": {
     "iopub.status.busy": "2023-09-26T18:29:34.369840Z",
     "iopub.execute_input": "2023-09-26T18:29:34.370214Z",
     "iopub.status.idle": "2023-09-26T18:29:35.268616Z",
     "shell.execute_reply.started": "2023-09-26T18:29:34.370183Z",
     "shell.execute_reply": "2023-09-26T18:29:35.267646Z"
    },
    "trusted": true
   },
   "execution_count": null,
   "outputs": []
  }
 ]
}
